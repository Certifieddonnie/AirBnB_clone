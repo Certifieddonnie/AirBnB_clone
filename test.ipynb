{
 "cells": [
  {
   "cell_type": "code",
   "execution_count": 5,
   "metadata": {},
   "outputs": [
    {
     "name": "stdout",
     "output_type": "stream",
     "text": [
      "{'__class__': 'BaseModel', 'id': '23f58c83-0e5e-4045-a584-57bd2834d495', 'created_at': '2022-11-25T13:56:58.643380', 'updated_at': '2022-11-25T13:56:58.643424'}\n"
     ]
    }
   ],
   "source": [
    "import re\n",
    "\n",
    "my_dict = {\"BaseModel.23f58c83-0e5e-4045-a584-57bd2834d495\": {\"__class__\": \"BaseModel\", \"id\": \"23f58c83-0e5e-4045-a584-57bd2834d495\",\n",
    "                                                    \"created_at\": \"2022-11-25T13:56:58.643380\", \"updated_at\": \"2022-11-25T13:56:58.643424\"}}\n",
    "\n",
    "# match = re.search(r'BaseModel', str(my_dict.keys()))\n",
    "for k in my_dict.keys():\n",
    "    str(k).startswith('Base')\n",
    "    print(my_dict[k])\n",
    "# print(my_dict.keys.startswith('BaseModel'))\n",
    "# print(match)"
   ]
  },
  {
   "cell_type": "code",
   "execution_count": 13,
   "metadata": {},
   "outputs": [
    {
     "name": "stdout",
     "output_type": "stream",
     "text": [
      "{'name': {'first': 'Donald', 'last': 'Amure', 'middle': 'Ade'}}\n"
     ]
    }
   ],
   "source": [
    "my_dict = {'name': {'first': \"Donald\", 'last': \"Amure\"}}\n",
    "\n",
    "inner = my_dict[\"name\"]\n",
    "inner[\"middle\"] = \"Ade\"\n",
    "print(str(my_dict))"
   ]
  },
  {
   "cell_type": "code",
   "execution_count": 11,
   "metadata": {},
   "outputs": [
    {
     "name": "stdout",
     "output_type": "stream",
     "text": [
      "<class 'dict_values'>\n"
     ]
    }
   ],
   "source": [
    "my_dict.values()\n",
    "print(type(my_dict.values()))"
   ]
  }
 ],
 "metadata": {
  "kernelspec": {
   "display_name": "Python 3.10.6 64-bit",
   "language": "python",
   "name": "python3"
  },
  "language_info": {
   "codemirror_mode": {
    "name": "ipython",
    "version": 3
   },
   "file_extension": ".py",
   "mimetype": "text/x-python",
   "name": "python",
   "nbconvert_exporter": "python",
   "pygments_lexer": "ipython3",
   "version": "3.10.6"
  },
  "orig_nbformat": 4,
  "vscode": {
   "interpreter": {
    "hash": "916dbcbb3f70747c44a77c7bcd40155683ae19c65e1c03b4aa3499c5328201f1"
   }
  }
 },
 "nbformat": 4,
 "nbformat_minor": 2
}
