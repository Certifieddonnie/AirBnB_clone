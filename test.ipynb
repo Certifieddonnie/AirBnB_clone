{
 "cells": [
  {
   "cell_type": "code",
   "execution_count": null,
   "metadata": {},
   "outputs": [],
   "source": [
    "{\"BaseModel.23f58c83-0e5e-4045-a584-57bd2834d495\": {\"__class__\": \"BaseModel\", \"id\": \"23f58c83-0e5e-4045-a584-57bd2834d495\",\n",
    "                                                    \"created_at\": \"2022-11-25T13:56:58.643380\", \"updated_at\": \"2022-11-25T13:56:58.643424\"}}\n"
   ]
  }
 ],
 "metadata": {
  "kernelspec": {
   "display_name": "Python 3.10.6 64-bit",
   "language": "python",
   "name": "python3"
  },
  "language_info": {
   "name": "python",
   "version": "3.10.6"
  },
  "orig_nbformat": 4,
  "vscode": {
   "interpreter": {
    "hash": "916dbcbb3f70747c44a77c7bcd40155683ae19c65e1c03b4aa3499c5328201f1"
   }
  }
 },
 "nbformat": 4,
 "nbformat_minor": 2
}
